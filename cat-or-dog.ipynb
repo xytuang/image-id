{
 "cells": [
  {
   "cell_type": "code",
   "execution_count": 1,
   "id": "34acc2f1",
   "metadata": {
    "_cell_guid": "b1076dfc-b9ad-4769-8c92-a6c4dae69d19",
    "_kg_hide-input": true,
    "_kg_hide-output": true,
    "_uuid": "8f2839f25d086af736a60e9eeb907d3b93b6e0e5",
    "execution": {
     "iopub.execute_input": "2024-01-08T20:36:54.142398Z",
     "iopub.status.busy": "2024-01-08T20:36:54.141531Z",
     "iopub.status.idle": "2024-01-08T20:36:54.923205Z",
     "shell.execute_reply": "2024-01-08T20:36:54.922268Z"
    },
    "papermill": {
     "duration": 0.790471,
     "end_time": "2024-01-08T20:36:54.925551",
     "exception": false,
     "start_time": "2024-01-08T20:36:54.135080",
     "status": "completed"
    },
    "tags": []
   },
   "outputs": [],
   "source": [
    "# This Python 3 environment comes with many helpful analytics libraries installed\n",
    "# It is defined by the kaggle/python Docker image: https://github.com/kaggle/docker-python\n",
    "# For example, here's several helpful packages to load\n",
    "\n",
    "import numpy as np # linear algebra\n",
    "import pandas as pd # data processing, CSV file I/O (e.g. pd.read_csv)\n",
    "\n",
    "# Input data files are available in the read-only \"../input/\" directory\n",
    "# For example, running this (by clicking run or pressing Shift+Enter) will list all files under the input directory\n",
    "\n",
    "import os\n",
    "# for dirname, _, filenames in os.walk('/kaggle/input'):\n",
    "#     for filename in filenames:\n",
    "#         print(os.path.join(dirname, filename))\n",
    "\n",
    "# You can write up to 20GB to the current directory (/kaggle/working/) that gets preserved as output when you create a version using \"Save & Run All\" \n",
    "# You can also write temporary files to /kaggle/temp/, but they won't be saved outside of the current session"
   ]
  },
  {
   "cell_type": "code",
   "execution_count": 2,
   "id": "1889ac65",
   "metadata": {
    "execution": {
     "iopub.execute_input": "2024-01-08T20:36:54.935089Z",
     "iopub.status.busy": "2024-01-08T20:36:54.934735Z",
     "iopub.status.idle": "2024-01-08T20:37:07.421858Z",
     "shell.execute_reply": "2024-01-08T20:37:07.421014Z"
    },
    "papermill": {
     "duration": 12.494305,
     "end_time": "2024-01-08T20:37:07.424263",
     "exception": false,
     "start_time": "2024-01-08T20:36:54.929958",
     "status": "completed"
    },
    "tags": []
   },
   "outputs": [
    {
     "name": "stderr",
     "output_type": "stream",
     "text": [
      "/opt/conda/lib/python3.10/site-packages/scipy/__init__.py:146: UserWarning: A NumPy version >=1.16.5 and <1.23.0 is required for this version of SciPy (detected version 1.24.3\n",
      "  warnings.warn(f\"A NumPy version >={np_minversion} and <{np_maxversion}\"\n"
     ]
    }
   ],
   "source": [
    "import tensorflow as tf\n",
    "from tensorflow.keras import Sequential\n",
    "from tensorflow.keras.losses import BinaryCrossentropy\n"
   ]
  },
  {
   "cell_type": "code",
   "execution_count": 3,
   "id": "248ba8eb",
   "metadata": {
    "execution": {
     "iopub.execute_input": "2024-01-08T20:37:07.433892Z",
     "iopub.status.busy": "2024-01-08T20:37:07.433363Z",
     "iopub.status.idle": "2024-01-08T20:37:08.633162Z",
     "shell.execute_reply": "2024-01-08T20:37:08.632298Z"
    },
    "papermill": {
     "duration": 1.206957,
     "end_time": "2024-01-08T20:37:08.635532",
     "exception": false,
     "start_time": "2024-01-08T20:37:07.428575",
     "status": "completed"
    },
    "tags": []
   },
   "outputs": [],
   "source": [
    "model = tf.keras.Sequential([\n",
    "  tf.keras.layers.Rescaling(1./255),\n",
    "  tf.keras.layers.Conv2D(128, 3, activation='relu'),\n",
    "  tf.keras.layers.MaxPooling2D((2,2)),\n",
    "  tf.keras.layers.Conv2D(128, 3, activation='relu'),\n",
    "  tf.keras.layers.MaxPooling2D((2,2)),\n",
    "  tf.keras.layers.Conv2D(64, 3, activation='relu'),\n",
    "  tf.keras.layers.MaxPooling2D((2,2)),\n",
    "  tf.keras.layers.Conv2D(32, 3, activation='relu'),\n",
    "  tf.keras.layers.MaxPooling2D((2,2)),\n",
    "  tf.keras.layers.Flatten(),\n",
    "  tf.keras.layers.Dense(1, activation='sigmoid')\n",
    "])\n",
    "\n",
    "model.compile(\n",
    "  optimizer='adam',\n",
    "  loss=BinaryCrossentropy(),\n",
    "  metrics=['accuracy'])"
   ]
  },
  {
   "cell_type": "code",
   "execution_count": 4,
   "id": "1eb84d4a",
   "metadata": {
    "execution": {
     "iopub.execute_input": "2024-01-08T20:37:08.645427Z",
     "iopub.status.busy": "2024-01-08T20:37:08.645096Z",
     "iopub.status.idle": "2024-01-08T20:37:08.649183Z",
     "shell.execute_reply": "2024-01-08T20:37:08.648329Z"
    },
    "papermill": {
     "duration": 0.011147,
     "end_time": "2024-01-08T20:37:08.651029",
     "exception": false,
     "start_time": "2024-01-08T20:37:08.639882",
     "status": "completed"
    },
    "tags": []
   },
   "outputs": [],
   "source": [
    "from PIL import Image"
   ]
  },
  {
   "cell_type": "code",
   "execution_count": 5,
   "id": "5cc5ff45",
   "metadata": {
    "execution": {
     "iopub.execute_input": "2024-01-08T20:37:08.659830Z",
     "iopub.status.busy": "2024-01-08T20:37:08.659523Z",
     "iopub.status.idle": "2024-01-08T20:37:08.689968Z",
     "shell.execute_reply": "2024-01-08T20:37:08.689178Z"
    },
    "papermill": {
     "duration": 0.037133,
     "end_time": "2024-01-08T20:37:08.692032",
     "exception": false,
     "start_time": "2024-01-08T20:37:08.654899",
     "status": "completed"
    },
    "tags": []
   },
   "outputs": [
    {
     "name": "stdout",
     "output_type": "stream",
     "text": [
      "The image size is: (150, 150)\n"
     ]
    },
    {
     "data": {
      "image/png": "[encoded data removed]",
      "text/plain": [
       "<PIL.JpegImagePlugin.JpegImageFile image mode=L size=150x150>"
      ]
     },
     "execution_count": 5,
     "metadata": {},
     "output_type": "execute_result"
    }
   ],
   "source": [
    "img = Image.open('/kaggle/input/30k-cats-and-dogs-150x150-greyscale/Animal Images/cats/00001098_028.jpg')\n",
    "img_size = img.size\n",
    "\n",
    "print(\"The image size is: {}\".format(img_size))\n",
    "\n",
    "img"
   ]
  },
  {
   "cell_type": "code",
   "execution_count": 6,
   "id": "6894f0da",
   "metadata": {
    "execution": {
     "iopub.execute_input": "2024-01-08T20:37:08.702208Z",
     "iopub.status.busy": "2024-01-08T20:37:08.701646Z",
     "iopub.status.idle": "2024-01-08T20:37:08.705655Z",
     "shell.execute_reply": "2024-01-08T20:37:08.704866Z"
    },
    "papermill": {
     "duration": 0.011121,
     "end_time": "2024-01-08T20:37:08.707557",
     "exception": false,
     "start_time": "2024-01-08T20:37:08.696436",
     "status": "completed"
    },
    "tags": []
   },
   "outputs": [],
   "source": [
    "batch_size = 30\n",
    "img_height = 150\n",
    "img_width = 150"
   ]
  },
  {
   "cell_type": "code",
   "execution_count": 7,
   "id": "60315018",
   "metadata": {
    "execution": {
     "iopub.execute_input": "2024-01-08T20:37:08.717727Z",
     "iopub.status.busy": "2024-01-08T20:37:08.717170Z",
     "iopub.status.idle": "2024-01-08T20:37:25.718359Z",
     "shell.execute_reply": "2024-01-08T20:37:25.717615Z"
    },
    "papermill": {
     "duration": 17.008421,
     "end_time": "2024-01-08T20:37:25.720485",
     "exception": false,
     "start_time": "2024-01-08T20:37:08.712064",
     "status": "completed"
    },
    "tags": []
   },
   "outputs": [
    {
     "name": "stdout",
     "output_type": "stream",
     "text": [
      "Found 30061 files belonging to 2 classes.\n",
      "Using 24049 files for training.\n"
     ]
    }
   ],
   "source": [
    "train_ds = tf.keras.utils.image_dataset_from_directory(\n",
    "  '/kaggle/input/30k-cats-and-dogs-150x150-greyscale/Animal Images',\n",
    "  validation_split=0.2,\n",
    "  subset=\"training\",\n",
    "  seed=123,\n",
    "  image_size=(img_height, img_width),\n",
    "  batch_size=batch_size)"
   ]
  },
  {
   "cell_type": "code",
   "execution_count": 8,
   "id": "c6259ba8",
   "metadata": {
    "execution": {
     "iopub.execute_input": "2024-01-08T20:37:25.731680Z",
     "iopub.status.busy": "2024-01-08T20:37:25.731093Z",
     "iopub.status.idle": "2024-01-08T20:37:33.126748Z",
     "shell.execute_reply": "2024-01-08T20:37:33.125798Z"
    },
    "papermill": {
     "duration": 7.40368,
     "end_time": "2024-01-08T20:37:33.128986",
     "exception": false,
     "start_time": "2024-01-08T20:37:25.725306",
     "status": "completed"
    },
    "tags": []
   },
   "outputs": [
    {
     "name": "stdout",
     "output_type": "stream",
     "text": [
      "Found 30061 files belonging to 2 classes.\n",
      "Using 6012 files for validation.\n"
     ]
    }
   ],
   "source": [
    "val_ds = tf.keras.utils.image_dataset_from_directory(\n",
    "  '/kaggle/input/30k-cats-and-dogs-150x150-greyscale/Animal Images',\n",
    "  validation_split=0.2,\n",
    "  subset=\"validation\",\n",
    "  seed=123,\n",
    "  image_size=(img_height, img_width),\n",
    "  batch_size=batch_size)"
   ]
  },
  {
   "cell_type": "code",
   "execution_count": 9,
   "id": "e07b15ff",
   "metadata": {
    "execution": {
     "iopub.execute_input": "2024-01-08T20:37:33.139847Z",
     "iopub.status.busy": "2024-01-08T20:37:33.139512Z",
     "iopub.status.idle": "2024-01-08T20:44:50.374876Z",
     "shell.execute_reply": "2024-01-08T20:44:50.373879Z"
    },
    "papermill": {
     "duration": 437.243192,
     "end_time": "2024-01-08T20:44:50.377041",
     "exception": false,
     "start_time": "2024-01-08T20:37:33.133849",
     "status": "completed"
    },
    "tags": []
   },
   "outputs": [
    {
     "name": "stdout",
     "output_type": "stream",
     "text": [
      "Epoch 1/10\n",
      "802/802 [==============================] - 51s 56ms/step - loss: 0.6570 - accuracy: 0.6045 - val_loss: 0.5934 - val_accuracy: 0.6941\n",
      "Epoch 2/10\n",
      "802/802 [==============================] - 43s 53ms/step - loss: 0.5748 - accuracy: 0.7073 - val_loss: 0.5294 - val_accuracy: 0.7412\n",
      "Epoch 3/10\n",
      "802/802 [==============================] - 43s 53ms/step - loss: 0.5046 - accuracy: 0.7570 - val_loss: 0.4756 - val_accuracy: 0.7710\n",
      "Epoch 4/10\n",
      "802/802 [==============================] - 43s 53ms/step - loss: 0.4439 - accuracy: 0.7901 - val_loss: 0.4253 - val_accuracy: 0.8002\n",
      "Epoch 5/10\n",
      "802/802 [==============================] - 43s 53ms/step - loss: 0.3886 - accuracy: 0.8227 - val_loss: 0.3923 - val_accuracy: 0.8230\n",
      "Epoch 6/10\n",
      "802/802 [==============================] - 43s 53ms/step - loss: 0.3365 - accuracy: 0.8524 - val_loss: 0.3804 - val_accuracy: 0.8312\n",
      "Epoch 7/10\n",
      "802/802 [==============================] - 43s 53ms/step - loss: 0.2930 - accuracy: 0.8732 - val_loss: 0.3816 - val_accuracy: 0.8387\n",
      "Epoch 8/10\n",
      "802/802 [==============================] - 43s 54ms/step - loss: 0.2621 - accuracy: 0.8897 - val_loss: 0.4380 - val_accuracy: 0.8253\n",
      "Epoch 9/10\n",
      "802/802 [==============================] - 43s 54ms/step - loss: 0.2193 - accuracy: 0.9094 - val_loss: 0.4054 - val_accuracy: 0.8480\n",
      "Epoch 10/10\n",
      "802/802 [==============================] - 43s 53ms/step - loss: 0.1889 - accuracy: 0.9218 - val_loss: 0.4355 - val_accuracy: 0.8413\n"
     ]
    },
    {
     "data": {
      "text/plain": [
       "<keras.src.callbacks.History at 0x79d2efcd0550>"
      ]
     },
     "execution_count": 9,
     "metadata": {},
     "output_type": "execute_result"
    }
   ],
   "source": [
    "model.fit(\n",
    "  train_ds,\n",
    "  validation_data=val_ds,\n",
    "  epochs=10\n",
    ")"
   ]
  },
  {
   "cell_type": "code",
   "execution_count": 10,
   "id": "de2d9cd8",
   "metadata": {
    "execution": {
     "iopub.execute_input": "2024-01-08T20:44:51.203767Z",
     "iopub.status.busy": "2024-01-08T20:44:51.203372Z",
     "iopub.status.idle": "2024-01-08T20:44:51.253187Z",
     "shell.execute_reply": "2024-01-08T20:44:51.252226Z"
    },
    "papermill": {
     "duration": 0.453973,
     "end_time": "2024-01-08T20:44:51.255283",
     "exception": false,
     "start_time": "2024-01-08T20:44:50.801310",
     "status": "completed"
    },
    "tags": []
   },
   "outputs": [
    {
     "name": "stderr",
     "output_type": "stream",
     "text": [
      "/opt/conda/lib/python3.10/site-packages/keras/src/engine/training.py:3000: UserWarning: You are saving your model as an HDF5 file via `model.save()`. This file format is considered legacy. We recommend using instead the native Keras format, e.g. `model.save('my_model.keras')`.\n",
      "  saving_api.save_model(\n"
     ]
    }
   ],
   "source": [
    "model.save('cat_dog_model.h5')"
   ]
  },
  {
   "cell_type": "code",
   "execution_count": 11,
   "id": "9cc1d47f",
   "metadata": {
    "execution": {
     "iopub.execute_input": "2024-01-08T20:44:52.059870Z",
     "iopub.status.busy": "2024-01-08T20:44:52.059029Z",
     "iopub.status.idle": "2024-01-08T20:44:52.584691Z",
     "shell.execute_reply": "2024-01-08T20:44:52.583549Z"
    },
    "papermill": {
     "duration": 0.930966,
     "end_time": "2024-01-08T20:44:52.587024",
     "exception": false,
     "start_time": "2024-01-08T20:44:51.656058",
     "status": "completed"
    },
    "tags": []
   },
   "outputs": [
    {
     "name": "stdout",
     "output_type": "stream",
     "text": [
      "1/1 [==============================] - 0s 354ms/step\n",
      "[[0.01865338]]\n",
      "1/1 [==============================] - 0s 18ms/step\n",
      "[[0.9997843]]\n"
     ]
    }
   ],
   "source": [
    "from tensorflow.keras.preprocessing import image\n",
    "test_files = ['/kaggle/input/images/cat2.jpg', '/kaggle/input/images/dog.jpg']\n",
    "for file in test_files:\n",
    "    img = image.load_img(file, target_size=(150, 150))\n",
    "    da = image.img_to_array(img)\n",
    "    da = np.expand_dims(da, axis=0)\n",
    "    print(model.predict(da))"
   ]
  },
  {
   "cell_type": "code",
   "execution_count": null,
   "id": "e657aecb",
   "metadata": {
    "papermill": {
     "duration": 0.478548,
     "end_time": "2024-01-08T20:44:53.470052",
     "exception": false,
     "start_time": "2024-01-08T20:44:52.991504",
     "status": "completed"
    },
    "tags": []
   },
   "outputs": [],
   "source": []
  }
 ],
 "metadata": {
  "kaggle": {
   "accelerator": "nvidiaTeslaT4",
   "dataSources": [
    {
     "datasetId": 2889098,
     "sourceId": 4981434,
     "sourceType": "datasetVersion"
    },
    {
     "datasetId": 4278701,
     "sourceId": 7365182,
     "sourceType": "datasetVersion"
    }
   ],
   "dockerImageVersionId": 30627,
   "isGpuEnabled": true,
   "isInternetEnabled": true,
   "language": "python",
   "sourceType": "notebook"
  },
  "kernelspec": {
   "display_name": "Python 3",
   "language": "python",
   "name": "python3"
  },
  "language_info": {
   "codemirror_mode": {
    "name": "ipython",
    "version": 3
   },
   "file_extension": ".py",
   "mimetype": "text/x-python",
   "name": "python",
   "nbconvert_exporter": "python",
   "pygments_lexer": "ipython3",
   "version": "3.10.12"
  },
  "papermill": {
   "default_parameters": {},
   "duration": 485.920593,
   "end_time": "2024-01-08T20:44:56.560743",
   "environment_variables": {},
   "exception": null,
   "input_path": "__notebook__.ipynb",
   "output_path": "__notebook__.ipynb",
   "parameters": {},
   "start_time": "2024-01-08T20:36:50.640150",
   "version": "2.4.0"
  }
 },
 "nbformat": 4,
 "nbformat_minor": 5
}
